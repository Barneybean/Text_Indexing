{
  "nbformat": 4,
  "nbformat_minor": 0,
  "metadata": {
    "colab": {
      "name": "MapReduce.ipynb",
      "version": "0.3.2",
      "provenance": [],
      "collapsed_sections": [],
      "include_colab_link": true
    },
    "kernelspec": {
      "name": "python3",
      "display_name": "Python 3"
    }
  },
  "cells": [
    {
      "cell_type": "markdown",
      "metadata": {
        "id": "view-in-github",
        "colab_type": "text"
      },
      "source": [
        "<a href=\"https://colab.research.google.com/github/Barneybean/Text_Indexing/blob/master/MapReduce.ipynb\" target=\"_parent\"><img src=\"https://colab.research.google.com/assets/colab-badge.svg\" alt=\"Open In Colab\"/></a>"
      ]
    },
    {
      "metadata": {
        "id": "Ryy1SVri3PA_",
        "colab_type": "code",
        "colab": {
          "base_uri": "https://localhost:8080/",
          "height": 224
        },
        "outputId": "e643d009-f659-4c96-af8d-7afed6103aeb"
      },
      "cell_type": "code",
      "source": [
        "#Method - April, modified - William\n",
        "from functools import reduce\n",
        "import numpy as np\n",
        "\n",
        "import operator\n",
        "import pandas as pd\n",
        "\n",
        "book_by_page = [[\"Mary\", \"Lamb\", \"Had\", \"A\", \"A\"],[\"A\",\"Little\", \"Lamb\"],[\"Joseph\",\"Had\",\"A\",\"Baby\"]]\n",
        "\n",
        "#remove duplicate in a page\n",
        "book_by_page = list(map(lambda x: set(x), book_by_page))\n",
        "\n",
        "#see tuples in testing eg:[(0, {'A', 'Had', 'Mary', 'Lamb'})], this ste is to assign page number to each word on each page {i:[(x[0]+1)]} => {'Had': [1]}\n",
        "map_list = list(map(lambda x: list({i:[(x[0]+1)]} for i in x[1]), enumerate(book_by_page)))\n",
        "print(\"map_list\", map_list)\n",
        "print(\"--------\")\n",
        "\n",
        "#map_list = list(map(lambda x: {i:[(x[0]+1)] for i in x[1]} , enumerate(book_by_page)))\n",
        "\n",
        "flat_map_list = reduce(operator.concat, map_list)\n",
        "print(\"flat_map_list\", flat_map_list)\n",
        "print(\"--------\")\n",
        "\n",
        "flat_map_list\n",
        "\n",
        "def merge_dict(x,y):\n",
        "    if list(y.keys())[0] in list(x.keys()):\n",
        "        x[list(y.keys())[0]].append(list(y.values())[0][0])\n",
        "    else:\n",
        "        x.update(y)\n",
        "    return x\n",
        "\n",
        "reduce(merge_dict,flat_map_list)"
      ],
      "execution_count": 1,
      "outputs": [
        {
          "output_type": "stream",
          "text": [
            "map_list [[{'A': [1]}, {'Had': [1]}, {'Mary': [1]}, {'Lamb': [1]}], [{'A': [2]}, {'Lamb': [2]}, {'Little': [2]}], [{'A': [3]}, {'Had': [3]}, {'Baby': [3]}, {'Joseph': [3]}]]\n",
            "--------\n",
            "flat_map_list [{'A': [1]}, {'Had': [1]}, {'Mary': [1]}, {'Lamb': [1]}, {'A': [2]}, {'Lamb': [2]}, {'Little': [2]}, {'A': [3]}, {'Had': [3]}, {'Baby': [3]}, {'Joseph': [3]}]\n",
            "--------\n"
          ],
          "name": "stdout"
        },
        {
          "output_type": "execute_result",
          "data": {
            "text/plain": [
              "{'A': [1, 2, 3],\n",
              " 'Baby': [3],\n",
              " 'Had': [1, 3],\n",
              " 'Joseph': [3],\n",
              " 'Lamb': [1, 2],\n",
              " 'Little': [2],\n",
              " 'Mary': [1]}"
            ]
          },
          "metadata": {
            "tags": []
          },
          "execution_count": 1
        }
      ]
    },
    {
      "metadata": {
        "id": "36vmfES-qgR5",
        "colab_type": "code",
        "outputId": "fc9d2b84-a4b7-4e6e-ceaf-a9eea8fa2ab0",
        "colab": {
          "base_uri": "https://localhost:8080/",
          "height": 102
        }
      },
      "cell_type": "code",
      "source": [
        "# Method1 - William\n",
        "from functools import reduce \n",
        "book_by_page = [['Mary', 'Lamb', 'Had', 'A', \"A\"],['Little', 'Lamb'],[\"Joseph\",\"Had\",\"A\",\"Baby\"]]\n",
        "\n",
        "#get unique words \n",
        "words = reduce(lambda x, y: x+y, book_by_page)\n",
        "unique_words = list(set(words))\n",
        "print(f'unique words in the book are: \\n{unique_words}')\n",
        "\n",
        "def map_fn(data):\n",
        "    idx, el = data\n",
        "    dict = {}\n",
        "    dict[idx+1]=el\n",
        "    return dict\n",
        "  \n",
        "book = list(map(map_fn, enumerate(book_by_page)))\n",
        "# [{1: ['A', 'Had', 'Mary', 'Lamb']}, {2: ['Lamb', 'Little']}]\n",
        "print(book)\n",
        "\n",
        "# create result dictionary\n",
        "result = {}\n",
        "for x in unique_words:\n",
        "  result[x] = []\n",
        "# print(result)\n",
        "\n",
        "def search_words(word):\n",
        "  # count is used as key of each item in the book list\n",
        "  page_num = 1\n",
        "  for item in book: \n",
        "    if word in item[page_num]:\n",
        "      #if word occurs in the page then append page number to result list of the word\n",
        "      result[word].append(page_num)\n",
        "      page_num += 1\n",
        "    else:\n",
        "      page_num += 1\n",
        "\n",
        "     \n",
        "list(map(search_words, unique_words))\n",
        "\n",
        "print(f\"index of each word is: \\n{result}\")"
      ],
      "execution_count": 2,
      "outputs": [
        {
          "output_type": "stream",
          "text": [
            "unique words in the book are: \n",
            "['A', 'Joseph', 'Baby', 'Lamb', 'Little', 'Had', 'Mary']\n",
            "[{1: ['Mary', 'Lamb', 'Had', 'A', 'A']}, {2: ['Little', 'Lamb']}, {3: ['Joseph', 'Had', 'A', 'Baby']}]\n",
            "index of each word is: \n",
            "{'A': [1, 3], 'Joseph': [3], 'Baby': [3], 'Lamb': [1, 2], 'Little': [2], 'Had': [1, 3], 'Mary': [1]}\n"
          ],
          "name": "stdout"
        }
      ]
    },
    {
      "metadata": {
        "id": "OWuIbQncqUpI",
        "colab_type": "code",
        "outputId": "c3e272e9-012b-4c74-f998-b233e667da5d",
        "colab": {
          "base_uri": "https://localhost:8080/",
          "height": 119
        }
      },
      "cell_type": "code",
      "source": [
        "#testing\n",
        "a = {\"mary\":[1]}\n",
        "b=[1,2,2,3]\n",
        "a[\"bob\"]=b\n",
        "print(a)\n",
        "\n",
        "print(list(a.keys())[0])\n",
        "\n",
        "#testing\n",
        "b.index(2)\n",
        "#get unique values in a list\n",
        "set(b)\n",
        "\n",
        "def check_keys(dict): \n",
        "    if \"mary\" not in dict.keys():\n",
        "        print(1)\n",
        "    else:\n",
        "        print(2)\n",
        "    \n",
        "check_keys(a)  \n",
        "\n",
        "#testing - get index in map using emulate\n",
        "my_list = [2,3,5,7]\n",
        "\n",
        "def map_fn(data):\n",
        "    idx, el = data\n",
        "    dict = {}\n",
        "    dict[el]=[idx+1]\n",
        "    return dict\n",
        "\n",
        "list(map(map_fn, enumerate(my_list)))\n",
        "\n",
        "# tuples\n",
        "tuples = list(enumerate(book_by_page))\n",
        "print(\"tuples\", tuples)\n",
        "\n",
        "print(\"-----\")\n",
        "\n",
        "print(tuples[0][0], \"and\", tuples[0][1])\n",
        "  "
      ],
      "execution_count": 3,
      "outputs": [
        {
          "output_type": "stream",
          "text": [
            "{'mary': [1], 'bob': [1, 2, 2, 3]}\n",
            "mary\n",
            "2\n",
            "tuples [(0, ['Mary', 'Lamb', 'Had', 'A', 'A']), (1, ['Little', 'Lamb']), (2, ['Joseph', 'Had', 'A', 'Baby'])]\n",
            "-----\n",
            "0 and ['Mary', 'Lamb', 'Had', 'A', 'A']\n"
          ],
          "name": "stdout"
        }
      ]
    },
    {
      "metadata": {
        "id": "Wq_MM2udqn61",
        "colab_type": "code",
        "outputId": "95212bba-ffd1-43f6-d286-5d577ad0ff9e",
        "colab": {
          "base_uri": "https://localhost:8080/",
          "height": 224
        }
      },
      "cell_type": "code",
      "source": [
        ""
      ],
      "execution_count": 0,
      "outputs": [
        {
          "output_type": "stream",
          "text": [
            "map_list [[{'Had': [1]}, {'Mary': [1]}, {'Lamb': [1]}, {'A': [1]}], [{'Lamb': [2]}, {'Little': [2]}, {'A': [2]}], [{'Baby': [3]}, {'Joseph': [3]}, {'Had': [3]}, {'A': [3]}]]\n",
            "--------\n",
            "flat_map_list [{'Had': [1]}, {'Mary': [1]}, {'Lamb': [1]}, {'A': [1]}, {'Lamb': [2]}, {'Little': [2]}, {'A': [2]}, {'Baby': [3]}, {'Joseph': [3]}, {'Had': [3]}, {'A': [3]}]\n",
            "--------\n"
          ],
          "name": "stdout"
        },
        {
          "output_type": "execute_result",
          "data": {
            "text/plain": [
              "{'A': [1, 2, 3],\n",
              " 'Baby': [3],\n",
              " 'Had': [1, 3],\n",
              " 'Joseph': [3],\n",
              " 'Lamb': [1, 2],\n",
              " 'Little': [2],\n",
              " 'Mary': [1]}"
            ]
          },
          "metadata": {
            "tags": []
          },
          "execution_count": 7
        }
      ]
    },
    {
      "metadata": {
        "id": "GdQMBqNi1Sd0",
        "colab_type": "code",
        "colab": {}
      },
      "cell_type": "code",
      "source": [
        ""
      ],
      "execution_count": 0,
      "outputs": []
    }
  ]
}