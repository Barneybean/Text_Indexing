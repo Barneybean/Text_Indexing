{
  "nbformat": 4,
  "nbformat_minor": 0,
  "metadata": {
    "colab": {
      "name": "MapReduce.ipynb",
      "version": "0.3.2",
      "provenance": [],
      "collapsed_sections": [],
      "include_colab_link": true
    },
    "kernelspec": {
      "name": "python3",
      "display_name": "Python 3"
    }
  },
  "cells": [
    {
      "cell_type": "markdown",
      "metadata": {
        "id": "view-in-github",
        "colab_type": "text"
      },
      "source": [
        "<a href=\"https://colab.research.google.com/github/Barneybean/Text_Indexing-/blob/master/MapReduce.ipynb\" target=\"_parent\"><img src=\"https://colab.research.google.com/assets/colab-badge.svg\" alt=\"Open In Colab\"/></a>"
      ]
    },
    {
      "metadata": {
        "id": "Ryy1SVri3PA_",
        "colab_type": "code",
        "colab": {
          "base_uri": "https://localhost:8080/",
          "height": 102
        },
        "outputId": "f8dc79ea-e9ab-4c5d-d682-a1196f85197e"
      },
      "cell_type": "code",
      "source": [
        "from functools import reduce \n",
        "book_by_page = [['Mary', 'Lamb', 'Had', 'A'],['Little', 'Lamb']]\n",
        "#result should be INDEX = {“Mary”: [1], “Had”: [1], “A”: [1], “Little”: [2], “Lamb”: [1,2]}\n",
        "\n",
        "#get unique words \n",
        "words = reduce(lambda x, y: x+y, book_by_page)\n",
        "unique_words = list(set(words))\n",
        "print(f'unique words in the book are: \\n{unique_words}')\n",
        "print(\"----------------------\")\n",
        "# ['Had', 'Mary', 'Little', 'A', 'Lamb']\n",
        "\n",
        "# Method1 - with two forloops\n",
        "from functools import reduce \n",
        "book_by_page = [['Mary', 'Lamb', 'Had', 'A'],['Little', 'Lamb']]\n",
        "\n",
        "#remove duplicate from each page\n",
        "unique_book_by_page = list(map(lambda x: list(set(x)), book_by_page))\n",
        "\n",
        "def map_fn(data):\n",
        "    idx, el = data\n",
        "    dict = {}\n",
        "    dict[idx+1]=el\n",
        "    return dict\n",
        "  \n",
        "book = list(map(map_fn, enumerate(unique_book_by_page)))\n",
        "# [{1: ['A', 'Had', 'Mary', 'Lamb']}, {2: ['Lamb', 'Little']}]\n",
        "\n",
        "\n",
        "# create result dictionary\n",
        "result = {}\n",
        "for x in unique_words:\n",
        "  result[x] = []\n",
        "# print(result)\n",
        "\n",
        "def search_words(word):\n",
        "  # count is used as key of each item in the book list\n",
        "  page_num = 1\n",
        "  for item in book: \n",
        "    if word in item[page_num]:\n",
        "      #if word occurs in the page then append page number to result list of the word\n",
        "      result[word].append(page_num)\n",
        "      page_num += 1\n",
        "    else:\n",
        "      page_num += 1\n",
        "\n",
        "     \n",
        "list(map(search_words, unique_words))\n",
        "\n",
        "print(f\"index of each word is: \\n{result}\")"
      ],
      "execution_count": 226,
      "outputs": [
        {
          "output_type": "stream",
          "text": [
            "unique words in the book are: \n",
            "['Had', 'Mary', 'Little', 'A', 'Lamb']\n",
            "----------------------\n",
            "index of each word is: \n",
            "{'Had': [1], 'Mary': [1], 'Little': [2], 'A': [1], 'Lamb': [1, 2]}\n"
          ],
          "name": "stdout"
        }
      ]
    },
    {
      "metadata": {
        "id": "1QHLGvJzx1p1",
        "colab_type": "code",
        "colab": {
          "base_uri": "https://localhost:8080/",
          "height": 34
        },
        "outputId": "6368ce06-cabc-4cfa-8d09-0b2bbd0325c6"
      },
      "cell_type": "code",
      "source": [
        ""
      ],
      "execution_count": 221,
      "outputs": [
        {
          "output_type": "stream",
          "text": [
            "{'Had': [1], 'Mary': [1], 'Little': [2], 'A': [1], 'Lamb': [1, 2]}\n"
          ],
          "name": "stdout"
        }
      ]
    },
    {
      "metadata": {
        "id": "eWFX6FibxvXH",
        "colab_type": "code",
        "colab": {
          "base_uri": "https://localhost:8080/",
          "height": 68
        },
        "outputId": "cfa088d7-7efa-4fb9-b8c5-89af80a4128f"
      },
      "cell_type": "code",
      "source": [
        "#testing\n",
        "a = {\"mary\":[1]}\n",
        "b=[1,2,2,3]\n",
        "a[\"bob\"]=b\n",
        "print(a)\n",
        "\n",
        "#testing\n",
        "b.index(2)\n",
        "#get unique values in a list\n",
        "set(b)\n",
        "\n",
        "def check_keys(dict): \n",
        "    if \"mary\" not in dict.keys():\n",
        "        print(1)\n",
        "    else:\n",
        "        print(2)\n",
        "    \n",
        "check_keys(a)  \n",
        "\n",
        "#testing - get index in map using emulate\n",
        "my_list = [2,3,5,7]\n",
        "\n",
        "def map_fn(data):\n",
        "    idx, el = data\n",
        "    dict = {}\n",
        "    dict[el]=[idx+1]\n",
        "    return dict\n",
        "\n",
        "list(map(map_fn, enumerate(my_list)))\n",
        "  "
      ],
      "execution_count": 73,
      "outputs": [
        {
          "output_type": "stream",
          "text": [
            "{'mary': [1], 'bob': [1, 2, 2, 3]}\n",
            "2\n"
          ],
          "name": "stdout"
        },
        {
          "output_type": "execute_result",
          "data": {
            "text/plain": [
              "[{2: [1]}, {3: [2]}, {5: [3]}, {7: [4]}]"
            ]
          },
          "metadata": {
            "tags": []
          },
          "execution_count": 73
        }
      ]
    },
    {
      "metadata": {
        "id": "vuwPOyFa6Gfr",
        "colab_type": "code",
        "colab": {}
      },
      "cell_type": "code",
      "source": [
        ""
      ],
      "execution_count": 0,
      "outputs": []
    },
    {
      "metadata": {
        "id": "2fmcCExlx0Ek",
        "colab_type": "code",
        "colab": {}
      },
      "cell_type": "code",
      "source": [
        ""
      ],
      "execution_count": 0,
      "outputs": []
    },
    {
      "metadata": {
        "id": "AjTEJTFW8pO_",
        "colab_type": "code",
        "colab": {}
      },
      "cell_type": "code",
      "source": [
        ""
      ],
      "execution_count": 0,
      "outputs": []
    },
    {
      "metadata": {
        "id": "lYwHxRZrovZN",
        "colab_type": "code",
        "colab": {}
      },
      "cell_type": "code",
      "source": [
        ""
      ],
      "execution_count": 0,
      "outputs": []
    }
  ]
}